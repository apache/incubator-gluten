{
 "cells": [
  {
   "cell_type": "code",
   "execution_count": null,
   "id": "cb29d225-8257-4f10-b01d-3957722d360f",
   "metadata": {},
   "outputs": [],
   "source": [
    "!pip install pyspark                               > /dev/null 2>&1\n"
   ]
  },
  {
   "cell_type": "code",
   "execution_count": null,
   "id": "13d97bd9-5fc1-42f0-8057-26edaf041cdb",
   "metadata": {},
   "outputs": [],
   "source": [
    "!pip show pyspark"
   ]
  },
  {
   "cell_type": "code",
   "execution_count": null,
   "id": "f65abd21-0435-48c0-b97a-43c39a6e6598",
   "metadata": {},
   "outputs": [],
   "source": [
    "%%time\n",
    "import os\n",
    "os.environ[\"PYARROW_IGNORE_TIMEZONE\"] = \"1\"\n",
    "import pyspark as spark\n",
    "from pyspark.sql import SparkSession\n",
    "spark=SparkSession.builder.appName(\"PySpark Read Parquet test\") \\\n",
    "   .config(\"spark.driver.memory\", \"100g\") \\\n",
    "   .config(\"spark.sql.shuffle.partitions\", \"88\") \\\n",
    "   .config(\"spark.driver.extraClassPath\", \"/home/sparkuser/gluten-velox-bundle-spark3.4_2.12-ubuntu_20.04-1.1.0-SNAPSHOT.jar\") \\\n",
    "   .config(\"spark.plugins\",\"io.glutenproject.GlutenPlugin\") \\\n",
    "   .config(\"spark.memory.offHeap.enabled\", \"true\") \\\n",
    "   .config(\"spark.memory.offHeap.size\", \"100g\") \\\n",
    "   .config(\"spark.shuffle.manager\",\"org.apache.spark.shuffle.sort.ColumnarShuffleManager\") \\\n",
    "   .getOrCreate()\n",
    "for tbl in ['nation','region','customer','supplier','lineitem','orders','partsupp','part'] :\n",
    "  spark.read.parquet(f'./{sf}/{tbl}/*.parquet').createOrReplaceTempView(tbl)\n",
    "apachespark=execute_query(spark, sql)\n",
    "apachespark.to_csv ('./result/gluten.csv', index = None, header=True)"
   ]
  }
 ],
 "metadata": {
  "kernelspec": {
   "display_name": "Python 3 (ipykernel)",
   "language": "python",
   "name": "python3"
  },
  "language_info": {
   "codemirror_mode": {
    "name": "ipython",
    "version": 3
   },
   "file_extension": ".py",
   "mimetype": "text/x-python",
   "name": "python",
   "nbconvert_exporter": "python",
   "pygments_lexer": "ipython3",
   "version": "3.10.12"
  }
 },
 "nbformat": 4,
 "nbformat_minor": 5
}
