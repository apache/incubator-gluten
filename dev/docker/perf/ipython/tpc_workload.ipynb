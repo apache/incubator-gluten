{
 "cells": [
  {
   "cell_type": "markdown",
   "metadata": {},
   "source": [
    "# initialization"
   ]
  },
  {
   "cell_type": "code",
   "execution_count": null,
   "metadata": {
    "tags": [
     "parameters"
    ]
   },
   "outputs": [],
   "source": [
    "# Local path to gluten jar.\n",
    "gluten_target_jar='/opt/gluten/jars/gluten-velox-bundle.jar'\n",
    "\n",
    "# Select workload. Can be either 'tpch' or 'tpcds'.\n",
    "workload='tpch'\n",
    "\n",
    "# Run with gluten. If False, run Spark.\n",
    "run_gluten=True\n",
    "\n",
    "# TPC tables\n",
    "#tpch_tabledir='/opt/spark/database/tpch_sf10_parquet_zstd'\n",
    "#tpcds_tabledir='/opt/spark/database/tpch_sf10_parquet_zstd'\n",
    "\n",
    "tabledir = ''\n",
    "\n",
    "# Database name. if it's set, use the database instead loading table from tabledir\n",
    "database = 'tpch_sf10_parquet_zstd'\n",
    "\n",
    "# TPC queries\n",
    "#tpch_query_path='/opt/spark/tpch-queries'\n",
    "#tpcds_query_path='/opt/spark/tpcds-queries'\n",
    "\n",
    "tpc_query_path = '/opt/spark/work-dir/tpc-h-300-queries/'\n",
    "\n",
    "# Parallelism\n",
    "executors_per_node=1\n",
    "\n",
    "#gluten_tpch_task_per_core=2\n",
    "#gluten_tpcds_task_per_core=4\n",
    "#spark_tpch_task_per_core=8\n",
    "#spark_tpcds_task_per_core=8\n",
    "\n",
    "task_per_core=2\n",
    "\n",
    "# Offheap ratio. 0 to disable offheap for Spark.\n",
    "# onheap:offheap = 1:2\n",
    "#spark_offheap_ratio=2.0\n",
    "# onheap:offheap = 1:7\n",
    "#gluten_offheap_ratio=7.0\n",
    "\n",
    "offheap_ratio = 7.0\n",
    "\n",
    "# spark.io.compression.codec\n",
    "spark_codec='lz4'\n",
    "# spark.gluten.sql.columnar.shuffle.codec\n",
    "gluten_codec='lz4'"
   ]
  },
  {
   "cell_type": "code",
   "execution_count": null,
   "metadata": {},
   "outputs": [],
   "source": [
    "%env PYSPARK_SUBMIT_ARGS=--driver-java-options -Dio.netty.tryReflectionSetAccessible=true --conf spark.executor.extraJavaOptions=-Dio.netty.tryReflectionSetAccessible=true pyspark-shell"
   ]
  },
  {
   "cell_type": "code",
   "execution_count": null,
   "metadata": {
    "scrolled": true
   },
   "outputs": [],
   "source": [
    "%run /opt/spark/work-dir/ipython/native_sql_initialize.ipynb"
   ]
  },
  {
   "cell_type": "markdown",
   "metadata": {},
   "source": [
    "# Application Level Configuration"
   ]
  },
  {
   "cell_type": "code",
   "execution_count": null,
   "metadata": {},
   "outputs": [],
   "source": [
    "if run_gluten:\n",
    "    sct=GlutenSparkContext(executors_per_node, task_per_core, gluten_target_jar, offheap_ratio)\n",
    "    sct.conf.set('spark.gluten.sql.columnar.shuffle.codec', gluten_codec)\n",
    "else:\n",
    "    sct=VanillaSparkContext(executors_per_node, task_per_core, gluten_target_jar, offheap_ratio)\n",
    "    sct.conf.set('spark.io.compression.codec', spark_codec)"
   ]
  },
  {
   "cell_type": "code",
   "execution_count": null,
   "metadata": {
    "scrolled": true
   },
   "outputs": [],
   "source": [
    "if workload.lower()==\"tpch\":\n",
    "    bm=TPCHBenchmark(sct, tabledir, 'parquet', tpc_query_path)\n",
    "else:\n",
    "    bm=TPCDSBenchmark(sct, tabledir, 'parquet', tpc_query_path)\n",
    "bm.initialize()"
   ]
  },
  {
   "cell_type": "code",
   "execution_count": null,
   "metadata": {},
   "outputs": [],
   "source": []
  },
  {
   "cell_type": "markdown",
   "metadata": {},
   "source": [
    "# Run Workload"
   ]
  },
  {
   "cell_type": "code",
   "execution_count": null,
   "metadata": {},
   "outputs": [],
   "source": [
    "if database!=\"\":\n",
    "    load_table=False\n",
    "    bm.sct.spark.sql(\"use \" + database)\n",
    "else:\n",
    "    load_table=True\n",
    "    if tabledir==\"\":\n",
    "        raise \"Either database or tabledir should be set\""
   ]
  },
  {
   "cell_type": "code",
   "execution_count": null,
   "metadata": {},
   "outputs": [],
   "source": []
  },
  {
   "cell_type": "code",
   "execution_count": null,
   "metadata": {
    "scrolled": true
   },
   "outputs": [],
   "source": [
    "bm.test_tpc.power_run(explain=False, print_result=False, load_table=load_table, action=lambda df: df.collect())"
   ]
  },
  {
   "cell_type": "code",
   "execution_count": null,
   "metadata": {
    "scrolled": true
   },
   "outputs": [],
   "source": [
    "bm.test_tpc.print_result()"
   ]
  },
  {
   "cell_type": "code",
   "execution_count": null,
   "metadata": {},
   "outputs": [],
   "source": [
    "bm.collect_profile()"
   ]
  },
  {
   "cell_type": "code",
   "execution_count": null,
   "metadata": {},
   "outputs": [],
   "source": []
  },
  {
   "cell_type": "code",
   "execution_count": null,
   "metadata": {},
   "outputs": [],
   "source": []
  },
  {
   "cell_type": "code",
   "execution_count": null,
   "metadata": {},
   "outputs": [],
   "source": []
  },
  {
   "cell_type": "code",
   "execution_count": null,
   "metadata": {},
   "outputs": [],
   "source": []
  }
 ],
 "metadata": {
  "celltoolbar": "Tags",
  "hide_input": false,
  "kernelspec": {
   "display_name": "Python 3 (ipykernel)",
   "language": "python",
   "name": "python3"
  },
  "language_info": {
   "codemirror_mode": {
    "name": "ipython",
    "version": 3
   },
   "file_extension": ".py",
   "mimetype": "text/x-python",
   "name": "python",
   "nbconvert_exporter": "python",
   "pygments_lexer": "ipython3",
   "version": "3.9.6"
  },
  "nbTranslate": {
   "displayLangs": [
    "*"
   ],
   "hotkey": "alt-t",
   "langInMainMenu": true,
   "sourceLang": "en",
   "targetLang": "fr",
   "useGoogleTranslate": true
  },
  "toc": {
   "base_numbering": 1,
   "nav_menu": {},
   "number_sections": true,
   "sideBar": false,
   "skip_h1_title": false,
   "title_cell": "Table of Contents",
   "title_sidebar": "Contents",
   "toc_cell": false,
   "toc_position": {
    "height": "428.672px",
    "left": "1568.91px",
    "top": "449.125px",
    "width": "159.359px"
   },
   "toc_section_display": false,
   "toc_window_display": true
  },
  "varInspector": {
   "cols": {
    "lenName": 16,
    "lenType": 16,
    "lenVar": 40
   },
   "kernels_config": {
    "python": {
     "delete_cmd_postfix": "",
     "delete_cmd_prefix": "del ",
     "library": "var_list.py",
     "varRefreshCmd": "print(var_dic_list())"
    },
    "r": {
     "delete_cmd_postfix": ") ",
     "delete_cmd_prefix": "rm(",
     "library": "var_list.r",
     "varRefreshCmd": "cat(var_dic_list()) "
    }
   },
   "types_to_exclude": [
    "module",
    "function",
    "builtin_function_or_method",
    "instance",
    "_Feature"
   ],
   "window_display": false
  }
 },
 "nbformat": 4,
 "nbformat_minor": 4
}
