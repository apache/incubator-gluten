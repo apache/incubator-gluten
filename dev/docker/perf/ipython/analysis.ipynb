{
 "cells": [
  {
   "cell_type": "code",
   "execution_count": null,
   "id": "784707ca",
   "metadata": {
    "tags": [
     "parameters"
    ]
   },
   "outputs": [],
   "source": [
    "appid='app-20250624222224-0007'\n",
    "basedir='s3a://gluten-profile/profile'\n",
    "server=\"127.0.0.1\""
   ]
  },
  {
   "cell_type": "code",
   "execution_count": null,
   "id": "87deebc2",
   "metadata": {},
   "outputs": [],
   "source": [
    "import findspark\n",
    "findspark.init()"
   ]
  },
  {
   "cell_type": "code",
   "execution_count": null,
   "id": "cfcfef6d",
   "metadata": {},
   "outputs": [],
   "source": [
    "import os\n",
    "import time\n",
    "import sys\n",
    "from pyspark import SparkConf, SparkContext\n",
    "from pyspark.sql import SQLContext\n",
    "\n",
    "def get_py4jzip():\n",
    "    spark_home=os.environ['SPARK_HOME']\n",
    "    py4jzip = !ls {spark_home}/python/lib/py4j*.zip\n",
    "    return py4jzip[0]\n",
    "\n",
    "conf = (SparkConf()\n",
    "    .set('spark.app.name', f'perf_analysis_{appid}')\n",
    "    .set('spark.serializer','org.apache.spark.serializer.KryoSerializer')\n",
    "    .set('spark.driver.memory','5g')\n",
    "    .set('spark.executorEnv.PYTHONPATH',f\"{os.environ['SPARK_HOME']}/python:{get_py4jzip()}:{':'.join(sys.path)}\")\n",
    "    .set('spark.sql.execution.arrow.pyspark.fallback.enabled','True')\n",
    "    .set('spark.sql.execution.arrow.pyspark.enabled','True')\n",
    "    .set('spark.sql.execution.arrow.maxRecordsPerBatch','100000')\n",
    "    .set(\"spark.sql.legacy.timeParserPolicy\",\"LEGACY\")\n",
    "       )\n",
    "\n",
    "sc = SparkContext(conf=conf)\n",
    "sc.setLogLevel(\"ERROR\")\n",
    "spark = SQLContext(sc)\n",
    "time.sleep(10)"
   ]
  },
  {
   "cell_type": "code",
   "execution_count": null,
   "id": "538c66ee",
   "metadata": {},
   "outputs": [],
   "source": []
  },
  {
   "cell_type": "code",
   "execution_count": null,
   "id": "b5a2ee03",
   "metadata": {},
   "outputs": [],
   "source": [
    "%run /opt/spark/work-dir/ipython/sparklog.ipynb"
   ]
  },
  {
   "cell_type": "code",
   "execution_count": null,
   "id": "d39f7b3d",
   "metadata": {},
   "outputs": [],
   "source": []
  },
  {
   "cell_type": "code",
   "execution_count": null,
   "id": "896cf484",
   "metadata": {},
   "outputs": [],
   "source": [
    "app=Application_Run(appid, basedir=basedir)\n",
    "appals=app.analysis['app']['als']"
   ]
  },
  {
   "cell_type": "code",
   "execution_count": null,
   "id": "005a6781",
   "metadata": {
    "scrolled": false
   },
   "outputs": [],
   "source": [
    "app.drawsar()"
   ]
  },
  {
   "cell_type": "code",
   "execution_count": null,
   "id": "0c1d63f1",
   "metadata": {
    "scrolled": false
   },
   "outputs": [],
   "source": [
    "stats=appals.get_basic_state()"
   ]
  },
  {
   "cell_type": "code",
   "execution_count": null,
   "id": "2849df82",
   "metadata": {
    "scrolled": false
   },
   "outputs": [],
   "source": [
    "summary=app.get_summary()\n",
    "display(summary.style)"
   ]
  },
  {
   "cell_type": "code",
   "execution_count": null,
   "id": "f7edf7bf",
   "metadata": {},
   "outputs": [],
   "source": []
  },
  {
   "cell_type": "code",
   "execution_count": null,
   "id": "7f95c44b",
   "metadata": {},
   "outputs": [],
   "source": [
    "traceview=app.generate_trace_view()"
   ]
  },
  {
   "cell_type": "code",
   "execution_count": null,
   "id": "06fcafbb",
   "metadata": {},
   "outputs": [],
   "source": [
    "appals.get_app_name()"
   ]
  },
  {
   "cell_type": "code",
   "execution_count": null,
   "id": "e3bea5dd",
   "metadata": {},
   "outputs": [],
   "source": [
    "cfg=appals.get_spark_config()\n",
    "display(cfg)\n",
    "cfg=cfg.fillna('')"
   ]
  },
  {
   "cell_type": "code",
   "execution_count": null,
   "id": "8d51d7ae",
   "metadata": {},
   "outputs": [],
   "source": [
    "appals.get_app_info()"
   ]
  },
  {
   "cell_type": "code",
   "execution_count": null,
   "id": "2a659818",
   "metadata": {
    "scrolled": true
   },
   "outputs": [],
   "source": [
    "breakdown=appals.show_critical_path_time_breakdown(plot=False).T\n",
    "display(breakdown)"
   ]
  },
  {
   "cell_type": "code",
   "execution_count": null,
   "id": "ecf5c39d",
   "metadata": {},
   "outputs": [],
   "source": []
  },
  {
   "cell_type": "code",
   "execution_count": null,
   "id": "26b7a05d",
   "metadata": {},
   "outputs": [],
   "source": [
    "gluten_run_metrics=[]\n",
    "for idx in breakdown.index:\n",
    "    gluten_run_metric={}\n",
    "    gluten_run_metric['appid']=appid\n",
    "    gluten_run_metric['total_time']=breakdown[0][idx]\n",
    "    pct=float(idx.split(\"%\")[0])/100\n",
    "    gluten_run_metric['metric_value']=pct\n",
    "    gluten_run_metric['metric_name']=idx.split(\"%\")[1]\n",
    "    gluten_run_metrics.append(gluten_run_metric)"
   ]
  },
  {
   "cell_type": "code",
   "execution_count": null,
   "id": "a1fc05a0",
   "metadata": {
    "scrolled": true
   },
   "outputs": [],
   "source": []
  },
  {
   "cell_type": "code",
   "execution_count": null,
   "id": "a2a5abd8",
   "metadata": {},
   "outputs": [],
   "source": [
    "spark_run_metrics={}\n",
    "spark_run_metrics[\"appid\"]=stats[\"appid\"]\n",
    "spark_run_metrics[\"executor_instances\"]=stats[\"executor.instances\"]\n",
    "spark_run_metrics[\"executor_cores\"]=stats[\"executor.cores\"]\n",
    "spark_run_metrics[\"shuffle_partitions\"]=stats[\"shuffle.partitions\"]\n",
    "spark_run_metrics[\"batch_size\"]=stats[\"batch size\"]\n",
    "spark_run_metrics[\"real_executors\"]=stats[\"real executors\"]\n",
    "spark_run_metrics[\"failed_tasks\"]=stats[\"Failed Tasks\"]\n",
    "spark_run_metrics[\"speculative_tasks\"]=stats[\"Speculative Tasks\"]\n",
    "spark_run_metrics[\"speculative_kill_tasks\"]=stats[\"Speculative Killed Tasks\"]\n",
    "spark_run_metrics[\"speculative_stage\"]=stats[\"Speculative Stage\"]\n",
    "spark_run_metrics[\"runtime\"]=stats[\"runtime\"]\n",
    "spark_run_metrics[\"disk_spilled\"]=stats[\"disk spilled\"]\n",
    "spark_run_metrics[\"mem_spilled\"]=stats[\"memspilled\"]\n",
    "spark_run_metrics[\"local_read\"]=stats[\"local_read\"]\n",
    "spark_run_metrics[\"remote_read\"]=stats[\"remote_read\"]\n",
    "spark_run_metrics[\"shuffle_write\"]=stats[\"shuffle_write\"]\n",
    "spark_run_metrics[\"task_run_time\"]=stats[\"task run time\"]\n",
    "spark_run_metrics[\"ser_time\"]=stats[\"ser_time\"]\n",
    "spark_run_metrics[\"f_wait_time\"]=stats[\"f_wait_time\"]\n",
    "spark_run_metrics[\"gc_time\"]=stats[\"gc_time\"]\n",
    "spark_run_metrics[\"input_read\"]=stats[\"input read\"]\n",
    "spark_run_metrics[\"acc_task_time\"]=stats[\"acc_task_time\"]\n",
    "spark_run_metrics[\"avg_usage_user\"]=summary[appid]['avg usage_user']\n",
    "spark_run_metrics[\"avg_usage_system\"]=summary[appid]['avg usage_system']\n",
    "spark_run_metrics[\"avg_usage_iowait\"]=summary[appid]['avg usage_iowait']\n",
    "spark_run_metrics[\"avg_disk_util\"]=summary[appid]['avg disk util']\n",
    "spark_run_metrics[\"total_read\"]=summary[appid]['total read (G)']\n",
    "spark_run_metrics[\"total_write\"]=summary[appid]['total write (G)']\n",
    "spark_run_metrics[\"cached_mean\"]=summary[appid]['cached mean']\n",
    "spark_run_metrics[\"used_mean\"]=summary[appid]['used mean']\n",
    "spark_run_metrics[\"spark_config\"]=json.dumps(cfg.to_dict()[cfg.columns[0]])"
   ]
  },
  {
   "cell_type": "code",
   "execution_count": null,
   "id": "5b36f8f8",
   "metadata": {},
   "outputs": [],
   "source": []
  },
  {
   "cell_type": "code",
   "execution_count": null,
   "id": "016b6741",
   "metadata": {
    "scrolled": false
   },
   "outputs": [],
   "source": [
    "query_detail=appals.get_query_time(plot=False)\n",
    "query_detail=query_detail.reset_index()\n",
    "query_detail=query_detail.drop('queryid', axis=1)\n",
    "query_detail=query_detail.drop('stages', axis=1)\n",
    "query_detail=query_detail.drop('storage read', axis=1)\n",
    "query_detail=query_detail.drop('ram read', axis=1)\n",
    "query_detail=query_detail.drop('ssd read', axis=1)\n",
    "query_detail.rename(columns={'real_queryid': 'queryid', \n",
    "                   'memspilled': 'mem_spilled',\n",
    "                   'input read' : 'input_read',\n",
    "                   'disk spilled' : 'disk_spilled',\n",
    "                   'output rows' : 'output_rows',\n",
    "                   'core/exec': 'executor_cores',\n",
    "                   'task.cpus': 'task_cpus'\n",
    "                  }, inplace=True)\n",
    "\n",
    "query_detail['appid']=appid\n"
   ]
  },
  {
   "cell_type": "code",
   "execution_count": null,
   "id": "234dc29e",
   "metadata": {},
   "outputs": [],
   "source": [
    "with open(\"/opt/spark/work-dir/ipython/analysis/spark_query_metric.json\",\"w\") as f:\n",
    "    json.dump(list(query_detail.T.to_dict().values()), f)"
   ]
  },
  {
   "cell_type": "code",
   "execution_count": null,
   "id": "78040f31",
   "metadata": {},
   "outputs": [],
   "source": [
    "with open(\"/opt/spark/work-dir/ipython/analysis/spark_run_metrics.json\",\"w\") as f:\n",
    "    json.dump(spark_run_metrics, f)"
   ]
  },
  {
   "cell_type": "code",
   "execution_count": null,
   "id": "201cfd9a",
   "metadata": {},
   "outputs": [],
   "source": [
    "with open(\"/opt/spark/work-dir/ipython/analysis/gluten_run_metrics.json\",\"w\") as f:\n",
    "    json.dump(gluten_run_metrics, f)"
   ]
  },
  {
   "cell_type": "code",
   "execution_count": null,
   "id": "2f98afc7",
   "metadata": {},
   "outputs": [],
   "source": []
  },
  {
   "cell_type": "code",
   "execution_count": null,
   "id": "956ece19",
   "metadata": {},
   "outputs": [],
   "source": []
  },
  {
   "cell_type": "code",
   "execution_count": null,
   "id": "c9d4c732",
   "metadata": {},
   "outputs": [],
   "source": []
  },
  {
   "cell_type": "code",
   "execution_count": null,
   "id": "c2613b72",
   "metadata": {},
   "outputs": [],
   "source": [
    "sc.stop()"
   ]
  },
  {
   "cell_type": "code",
   "execution_count": null,
   "id": "135cfcaf",
   "metadata": {},
   "outputs": [],
   "source": []
  },
  {
   "cell_type": "code",
   "execution_count": null,
   "id": "498d04a5",
   "metadata": {},
   "outputs": [],
   "source": []
  },
  {
   "cell_type": "code",
   "execution_count": null,
   "id": "051ca062",
   "metadata": {},
   "outputs": [],
   "source": []
  },
  {
   "cell_type": "code",
   "execution_count": null,
   "id": "ab915737",
   "metadata": {},
   "outputs": [],
   "source": []
  }
 ],
 "metadata": {
  "celltoolbar": "Tags",
  "hide_input": false,
  "kernelspec": {
   "display_name": "Python 3 (ipykernel)",
   "language": "python",
   "name": "python3"
  },
  "language_info": {
   "codemirror_mode": {
    "name": "ipython",
    "version": 3
   },
   "file_extension": ".py",
   "mimetype": "text/x-python",
   "name": "python",
   "nbconvert_exporter": "python",
   "pygments_lexer": "ipython3",
   "version": "3.9.6"
  },
  "nbTranslate": {
   "displayLangs": [
    "*"
   ],
   "hotkey": "alt-t",
   "langInMainMenu": true,
   "sourceLang": "en",
   "targetLang": "fr",
   "useGoogleTranslate": true
  },
  "toc": {
   "base_numbering": 1,
   "nav_menu": {},
   "number_sections": true,
   "sideBar": true,
   "skip_h1_title": false,
   "title_cell": "Table of Contents",
   "title_sidebar": "Contents",
   "toc_cell": false,
   "toc_position": {},
   "toc_section_display": true,
   "toc_window_display": false
  },
  "varInspector": {
   "cols": {
    "lenName": 16,
    "lenType": 16,
    "lenVar": 40
   },
   "kernels_config": {
    "python": {
     "delete_cmd_postfix": "",
     "delete_cmd_prefix": "del ",
     "library": "var_list.py",
     "varRefreshCmd": "print(var_dic_list())"
    },
    "r": {
     "delete_cmd_postfix": ") ",
     "delete_cmd_prefix": "rm(",
     "library": "var_list.r",
     "varRefreshCmd": "cat(var_dic_list()) "
    }
   },
   "types_to_exclude": [
    "module",
    "function",
    "builtin_function_or_method",
    "instance",
    "_Feature"
   ],
   "window_display": false
  }
 },
 "nbformat": 4,
 "nbformat_minor": 5
}
